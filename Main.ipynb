{
 "cells": [
  {
   "cell_type": "code",
   "execution_count": 194,
   "id": "7d62128c",
   "metadata": {},
   "outputs": [],
   "source": [
    "import pandas as pd\n",
    "import numpy as np\n",
    "\n",
    "import matplotlib.pyplot as plt\n",
    "import seaborn as sns\n",
    "\n",
    "import datetime as dt\n",
    "\n",
    "from scipy import stats\n",
    "\n",
    "from sklearn.neighbors import KNeighborsRegressor\n",
    "\n",
    "from sklearn.preprocessing import StandardScaler, MinMaxScaler\n",
    "\n",
    "from sklearn.metrics import mean_squared_error\n",
    "from sklearn.metrics import matthews_corrcoef\n",
    "\n",
    "import pandas_profiling"
   ]
  },
  {
   "cell_type": "code",
   "execution_count": 4,
   "id": "705807ee",
   "metadata": {},
   "outputs": [],
   "source": [
    "item_categories = pd.read_csv('item_categories.csv')\n",
    "items = pd.read_csv('items.csv.zip')\n",
    "sales_train = pd.read_csv('sales_train.csv.zip',  parse_dates=['date'], dtype={'date': 'str', 'date_block_num': 'int32', 'shop_id': 'int32','item_id': 'int32', 'item_price': 'float32', 'item_cnt_day': 'int32'})\n",
    "sample_submissions = pd.read_csv('sample_submission.csv.zip')\n",
    "shops = pd.read_csv('shops.csv')\n",
    "test = pd.read_csv('test.csv.zip')"
   ]
  },
  {
   "cell_type": "code",
   "execution_count": 5,
   "id": "cc3ee4f0",
   "metadata": {},
   "outputs": [
    {
     "data": {
      "text/html": [
       "<div>\n",
       "<style scoped>\n",
       "    .dataframe tbody tr th:only-of-type {\n",
       "        vertical-align: middle;\n",
       "    }\n",
       "\n",
       "    .dataframe tbody tr th {\n",
       "        vertical-align: top;\n",
       "    }\n",
       "\n",
       "    .dataframe thead th {\n",
       "        text-align: right;\n",
       "    }\n",
       "</style>\n",
       "<table border=\"1\" class=\"dataframe\">\n",
       "  <thead>\n",
       "    <tr style=\"text-align: right;\">\n",
       "      <th></th>\n",
       "      <th>item_category_name</th>\n",
       "      <th>item_category_id</th>\n",
       "    </tr>\n",
       "  </thead>\n",
       "  <tbody>\n",
       "    <tr>\n",
       "      <th>0</th>\n",
       "      <td>PC - Гарнитуры/Наушники</td>\n",
       "      <td>0</td>\n",
       "    </tr>\n",
       "    <tr>\n",
       "      <th>1</th>\n",
       "      <td>Аксессуары - PS2</td>\n",
       "      <td>1</td>\n",
       "    </tr>\n",
       "    <tr>\n",
       "      <th>2</th>\n",
       "      <td>Аксессуары - PS3</td>\n",
       "      <td>2</td>\n",
       "    </tr>\n",
       "  </tbody>\n",
       "</table>\n",
       "</div>"
      ],
      "text/plain": [
       "        item_category_name  item_category_id\n",
       "0  PC - Гарнитуры/Наушники                 0\n",
       "1         Аксессуары - PS2                 1\n",
       "2         Аксессуары - PS3                 2"
      ]
     },
     "execution_count": 5,
     "metadata": {},
     "output_type": "execute_result"
    }
   ],
   "source": [
    "item_categories.head(3)"
   ]
  },
  {
   "cell_type": "code",
   "execution_count": 6,
   "id": "44230627",
   "metadata": {},
   "outputs": [
    {
     "data": {
      "text/html": [
       "<div>\n",
       "<style scoped>\n",
       "    .dataframe tbody tr th:only-of-type {\n",
       "        vertical-align: middle;\n",
       "    }\n",
       "\n",
       "    .dataframe tbody tr th {\n",
       "        vertical-align: top;\n",
       "    }\n",
       "\n",
       "    .dataframe thead th {\n",
       "        text-align: right;\n",
       "    }\n",
       "</style>\n",
       "<table border=\"1\" class=\"dataframe\">\n",
       "  <thead>\n",
       "    <tr style=\"text-align: right;\">\n",
       "      <th></th>\n",
       "      <th>item_name</th>\n",
       "      <th>item_id</th>\n",
       "      <th>item_category_id</th>\n",
       "    </tr>\n",
       "  </thead>\n",
       "  <tbody>\n",
       "    <tr>\n",
       "      <th>0</th>\n",
       "      <td>! ВО ВЛАСТИ НАВАЖДЕНИЯ (ПЛАСТ.)         D</td>\n",
       "      <td>0</td>\n",
       "      <td>40</td>\n",
       "    </tr>\n",
       "    <tr>\n",
       "      <th>1</th>\n",
       "      <td>!ABBYY FineReader 12 Professional Edition Full...</td>\n",
       "      <td>1</td>\n",
       "      <td>76</td>\n",
       "    </tr>\n",
       "    <tr>\n",
       "      <th>2</th>\n",
       "      <td>***В ЛУЧАХ СЛАВЫ   (UNV)                    D</td>\n",
       "      <td>2</td>\n",
       "      <td>40</td>\n",
       "    </tr>\n",
       "  </tbody>\n",
       "</table>\n",
       "</div>"
      ],
      "text/plain": [
       "                                           item_name  item_id  \\\n",
       "0          ! ВО ВЛАСТИ НАВАЖДЕНИЯ (ПЛАСТ.)         D        0   \n",
       "1  !ABBYY FineReader 12 Professional Edition Full...        1   \n",
       "2      ***В ЛУЧАХ СЛАВЫ   (UNV)                    D        2   \n",
       "\n",
       "   item_category_id  \n",
       "0                40  \n",
       "1                76  \n",
       "2                40  "
      ]
     },
     "execution_count": 6,
     "metadata": {},
     "output_type": "execute_result"
    }
   ],
   "source": [
    "items.head(3)"
   ]
  },
  {
   "cell_type": "code",
   "execution_count": 7,
   "id": "d2e781ec",
   "metadata": {},
   "outputs": [
    {
     "data": {
      "text/html": [
       "<div>\n",
       "<style scoped>\n",
       "    .dataframe tbody tr th:only-of-type {\n",
       "        vertical-align: middle;\n",
       "    }\n",
       "\n",
       "    .dataframe tbody tr th {\n",
       "        vertical-align: top;\n",
       "    }\n",
       "\n",
       "    .dataframe thead th {\n",
       "        text-align: right;\n",
       "    }\n",
       "</style>\n",
       "<table border=\"1\" class=\"dataframe\">\n",
       "  <thead>\n",
       "    <tr style=\"text-align: right;\">\n",
       "      <th></th>\n",
       "      <th>date</th>\n",
       "      <th>date_block_num</th>\n",
       "      <th>shop_id</th>\n",
       "      <th>item_id</th>\n",
       "      <th>item_price</th>\n",
       "      <th>item_cnt_day</th>\n",
       "    </tr>\n",
       "  </thead>\n",
       "  <tbody>\n",
       "    <tr>\n",
       "      <th>0</th>\n",
       "      <td>2013-02-01</td>\n",
       "      <td>0</td>\n",
       "      <td>59</td>\n",
       "      <td>22154</td>\n",
       "      <td>999.0</td>\n",
       "      <td>1</td>\n",
       "    </tr>\n",
       "    <tr>\n",
       "      <th>1</th>\n",
       "      <td>2013-03-01</td>\n",
       "      <td>0</td>\n",
       "      <td>25</td>\n",
       "      <td>2552</td>\n",
       "      <td>899.0</td>\n",
       "      <td>1</td>\n",
       "    </tr>\n",
       "    <tr>\n",
       "      <th>2</th>\n",
       "      <td>2013-05-01</td>\n",
       "      <td>0</td>\n",
       "      <td>25</td>\n",
       "      <td>2552</td>\n",
       "      <td>899.0</td>\n",
       "      <td>-1</td>\n",
       "    </tr>\n",
       "  </tbody>\n",
       "</table>\n",
       "</div>"
      ],
      "text/plain": [
       "        date  date_block_num  shop_id  item_id  item_price  item_cnt_day\n",
       "0 2013-02-01               0       59    22154       999.0             1\n",
       "1 2013-03-01               0       25     2552       899.0             1\n",
       "2 2013-05-01               0       25     2552       899.0            -1"
      ]
     },
     "execution_count": 7,
     "metadata": {},
     "output_type": "execute_result"
    }
   ],
   "source": [
    "sales_train.head(3)"
   ]
  },
  {
   "cell_type": "code",
   "execution_count": 8,
   "id": "34919079",
   "metadata": {},
   "outputs": [
    {
     "data": {
      "text/html": [
       "<div>\n",
       "<style scoped>\n",
       "    .dataframe tbody tr th:only-of-type {\n",
       "        vertical-align: middle;\n",
       "    }\n",
       "\n",
       "    .dataframe tbody tr th {\n",
       "        vertical-align: top;\n",
       "    }\n",
       "\n",
       "    .dataframe thead th {\n",
       "        text-align: right;\n",
       "    }\n",
       "</style>\n",
       "<table border=\"1\" class=\"dataframe\">\n",
       "  <thead>\n",
       "    <tr style=\"text-align: right;\">\n",
       "      <th></th>\n",
       "      <th>ID</th>\n",
       "      <th>item_cnt_month</th>\n",
       "    </tr>\n",
       "  </thead>\n",
       "  <tbody>\n",
       "    <tr>\n",
       "      <th>0</th>\n",
       "      <td>0</td>\n",
       "      <td>0.5</td>\n",
       "    </tr>\n",
       "    <tr>\n",
       "      <th>1</th>\n",
       "      <td>1</td>\n",
       "      <td>0.5</td>\n",
       "    </tr>\n",
       "    <tr>\n",
       "      <th>2</th>\n",
       "      <td>2</td>\n",
       "      <td>0.5</td>\n",
       "    </tr>\n",
       "  </tbody>\n",
       "</table>\n",
       "</div>"
      ],
      "text/plain": [
       "   ID  item_cnt_month\n",
       "0   0             0.5\n",
       "1   1             0.5\n",
       "2   2             0.5"
      ]
     },
     "execution_count": 8,
     "metadata": {},
     "output_type": "execute_result"
    }
   ],
   "source": [
    "sample_submissions.head(3)"
   ]
  },
  {
   "cell_type": "code",
   "execution_count": 9,
   "id": "15b0c031",
   "metadata": {},
   "outputs": [
    {
     "data": {
      "text/html": [
       "<div>\n",
       "<style scoped>\n",
       "    .dataframe tbody tr th:only-of-type {\n",
       "        vertical-align: middle;\n",
       "    }\n",
       "\n",
       "    .dataframe tbody tr th {\n",
       "        vertical-align: top;\n",
       "    }\n",
       "\n",
       "    .dataframe thead th {\n",
       "        text-align: right;\n",
       "    }\n",
       "</style>\n",
       "<table border=\"1\" class=\"dataframe\">\n",
       "  <thead>\n",
       "    <tr style=\"text-align: right;\">\n",
       "      <th></th>\n",
       "      <th>shop_name</th>\n",
       "      <th>shop_id</th>\n",
       "    </tr>\n",
       "  </thead>\n",
       "  <tbody>\n",
       "    <tr>\n",
       "      <th>0</th>\n",
       "      <td>!Якутск Орджоникидзе, 56 фран</td>\n",
       "      <td>0</td>\n",
       "    </tr>\n",
       "    <tr>\n",
       "      <th>1</th>\n",
       "      <td>!Якутск ТЦ \"Центральный\" фран</td>\n",
       "      <td>1</td>\n",
       "    </tr>\n",
       "    <tr>\n",
       "      <th>2</th>\n",
       "      <td>Адыгея ТЦ \"Мега\"</td>\n",
       "      <td>2</td>\n",
       "    </tr>\n",
       "  </tbody>\n",
       "</table>\n",
       "</div>"
      ],
      "text/plain": [
       "                       shop_name  shop_id\n",
       "0  !Якутск Орджоникидзе, 56 фран        0\n",
       "1  !Якутск ТЦ \"Центральный\" фран        1\n",
       "2               Адыгея ТЦ \"Мега\"        2"
      ]
     },
     "execution_count": 9,
     "metadata": {},
     "output_type": "execute_result"
    }
   ],
   "source": [
    "shops.head(3)"
   ]
  },
  {
   "cell_type": "code",
   "execution_count": 10,
   "id": "bcdd69ff",
   "metadata": {},
   "outputs": [
    {
     "data": {
      "text/html": [
       "<div>\n",
       "<style scoped>\n",
       "    .dataframe tbody tr th:only-of-type {\n",
       "        vertical-align: middle;\n",
       "    }\n",
       "\n",
       "    .dataframe tbody tr th {\n",
       "        vertical-align: top;\n",
       "    }\n",
       "\n",
       "    .dataframe thead th {\n",
       "        text-align: right;\n",
       "    }\n",
       "</style>\n",
       "<table border=\"1\" class=\"dataframe\">\n",
       "  <thead>\n",
       "    <tr style=\"text-align: right;\">\n",
       "      <th></th>\n",
       "      <th>ID</th>\n",
       "      <th>shop_id</th>\n",
       "      <th>item_id</th>\n",
       "    </tr>\n",
       "  </thead>\n",
       "  <tbody>\n",
       "    <tr>\n",
       "      <th>0</th>\n",
       "      <td>0</td>\n",
       "      <td>5</td>\n",
       "      <td>5037</td>\n",
       "    </tr>\n",
       "    <tr>\n",
       "      <th>1</th>\n",
       "      <td>1</td>\n",
       "      <td>5</td>\n",
       "      <td>5320</td>\n",
       "    </tr>\n",
       "    <tr>\n",
       "      <th>2</th>\n",
       "      <td>2</td>\n",
       "      <td>5</td>\n",
       "      <td>5233</td>\n",
       "    </tr>\n",
       "  </tbody>\n",
       "</table>\n",
       "</div>"
      ],
      "text/plain": [
       "   ID  shop_id  item_id\n",
       "0   0        5     5037\n",
       "1   1        5     5320\n",
       "2   2        5     5233"
      ]
     },
     "execution_count": 10,
     "metadata": {},
     "output_type": "execute_result"
    }
   ],
   "source": [
    "test.head(3)"
   ]
  },
  {
   "cell_type": "markdown",
   "id": "c973c924",
   "metadata": {},
   "source": [
    "## Here we merge all tables related with the train data into one table"
   ]
  },
  {
   "cell_type": "code",
   "execution_count": 11,
   "id": "d286fb28",
   "metadata": {},
   "outputs": [
    {
     "data": {
      "text/html": [
       "<div>\n",
       "<style scoped>\n",
       "    .dataframe tbody tr th:only-of-type {\n",
       "        vertical-align: middle;\n",
       "    }\n",
       "\n",
       "    .dataframe tbody tr th {\n",
       "        vertical-align: top;\n",
       "    }\n",
       "\n",
       "    .dataframe thead th {\n",
       "        text-align: right;\n",
       "    }\n",
       "</style>\n",
       "<table border=\"1\" class=\"dataframe\">\n",
       "  <thead>\n",
       "    <tr style=\"text-align: right;\">\n",
       "      <th></th>\n",
       "      <th>date</th>\n",
       "      <th>date_block_num</th>\n",
       "      <th>shop_id</th>\n",
       "      <th>item_id</th>\n",
       "      <th>item_price</th>\n",
       "      <th>item_cnt_day</th>\n",
       "      <th>item_category_id</th>\n",
       "      <th>item_category_name</th>\n",
       "      <th>shop_name</th>\n",
       "    </tr>\n",
       "  </thead>\n",
       "  <tbody>\n",
       "    <tr>\n",
       "      <th>0</th>\n",
       "      <td>2013-02-01</td>\n",
       "      <td>0</td>\n",
       "      <td>59</td>\n",
       "      <td>22154</td>\n",
       "      <td>999.000000</td>\n",
       "      <td>1</td>\n",
       "      <td>37</td>\n",
       "      <td>Кино - Blu-Ray</td>\n",
       "      <td>Ярославль ТЦ \"Альтаир\"</td>\n",
       "    </tr>\n",
       "    <tr>\n",
       "      <th>1</th>\n",
       "      <td>2013-03-01</td>\n",
       "      <td>0</td>\n",
       "      <td>25</td>\n",
       "      <td>2552</td>\n",
       "      <td>899.000000</td>\n",
       "      <td>1</td>\n",
       "      <td>58</td>\n",
       "      <td>Музыка - Винил</td>\n",
       "      <td>Москва ТРК \"Атриум\"</td>\n",
       "    </tr>\n",
       "    <tr>\n",
       "      <th>2</th>\n",
       "      <td>2013-05-01</td>\n",
       "      <td>0</td>\n",
       "      <td>25</td>\n",
       "      <td>2552</td>\n",
       "      <td>899.000000</td>\n",
       "      <td>1</td>\n",
       "      <td>58</td>\n",
       "      <td>Музыка - Винил</td>\n",
       "      <td>Москва ТРК \"Атриум\"</td>\n",
       "    </tr>\n",
       "    <tr>\n",
       "      <th>3</th>\n",
       "      <td>2013-06-01</td>\n",
       "      <td>0</td>\n",
       "      <td>25</td>\n",
       "      <td>2554</td>\n",
       "      <td>1709.050049</td>\n",
       "      <td>1</td>\n",
       "      <td>58</td>\n",
       "      <td>Музыка - Винил</td>\n",
       "      <td>Москва ТРК \"Атриум\"</td>\n",
       "    </tr>\n",
       "    <tr>\n",
       "      <th>4</th>\n",
       "      <td>2013-01-15</td>\n",
       "      <td>0</td>\n",
       "      <td>25</td>\n",
       "      <td>2555</td>\n",
       "      <td>1099.000000</td>\n",
       "      <td>1</td>\n",
       "      <td>56</td>\n",
       "      <td>Музыка - CD фирменного производства</td>\n",
       "      <td>Москва ТРК \"Атриум\"</td>\n",
       "    </tr>\n",
       "  </tbody>\n",
       "</table>\n",
       "</div>"
      ],
      "text/plain": [
       "        date  date_block_num  shop_id  item_id   item_price  item_cnt_day  \\\n",
       "0 2013-02-01               0       59    22154   999.000000             1   \n",
       "1 2013-03-01               0       25     2552   899.000000             1   \n",
       "2 2013-05-01               0       25     2552   899.000000             1   \n",
       "3 2013-06-01               0       25     2554  1709.050049             1   \n",
       "4 2013-01-15               0       25     2555  1099.000000             1   \n",
       "\n",
       "   item_category_id                   item_category_name  \\\n",
       "0                37                       Кино - Blu-Ray   \n",
       "1                58                       Музыка - Винил   \n",
       "2                58                       Музыка - Винил   \n",
       "3                58                       Музыка - Винил   \n",
       "4                56  Музыка - CD фирменного производства   \n",
       "\n",
       "                shop_name  \n",
       "0  Ярославль ТЦ \"Альтаир\"  \n",
       "1     Москва ТРК \"Атриум\"  \n",
       "2     Москва ТРК \"Атриум\"  \n",
       "3     Москва ТРК \"Атриум\"  \n",
       "4     Москва ТРК \"Атриум\"  "
      ]
     },
     "execution_count": 11,
     "metadata": {},
     "output_type": "execute_result"
    }
   ],
   "source": [
    "# merge data into one table\n",
    "train = sales_train.join(items, on = 'item_id', rsuffix='_')\\\n",
    "                    .join(item_categories, on = 'item_category_id', rsuffix = '_')\\\n",
    "                    .join(shops, on = 'shop_id', rsuffix = '_')\\\n",
    "                    .drop(['item_id_', 'shop_id_', 'item_category_id_', 'item_name'], axis=1)\n",
    "\n",
    "train['item_cnt_day'] = np.abs(train['item_cnt_day'])\n",
    "train.head()"
   ]
  },
  {
   "cell_type": "code",
   "execution_count": 178,
   "id": "282953b7",
   "metadata": {},
   "outputs": [],
   "source": [
    "profile = pandas_profiling.ProfileReport(train)"
   ]
  },
  {
   "cell_type": "code",
   "execution_count": 179,
   "id": "852958ea",
   "metadata": {},
   "outputs": [
    {
     "data": {
      "application/vnd.jupyter.widget-view+json": {
       "model_id": "b7726095e0e84e43a1bb60f9d63c22d2",
       "version_major": 2,
       "version_minor": 0
      },
      "text/plain": [
       "Summarize dataset:   0%|          | 0/26 [00:00<?, ?it/s]"
      ]
     },
     "metadata": {},
     "output_type": "display_data"
    },
    {
     "name": "stderr",
     "output_type": "stream",
     "text": [
      "C:\\Users\\Yauheni_Minau\\Anaconda3\\lib\\site-packages\\scipy\\stats\\stats.py:4812: RuntimeWarning: overflow encountered in longlong_scalars\n",
      "  (2 * xtie * ytie) / m + x0 * y0 / (9 * m * (size - 2)))\n"
     ]
    },
    {
     "name": "stdout",
     "output_type": "stream",
     "text": [
      "dict_keys(['analysis', 'table', 'variables', 'scatter', 'correlations', 'missing', 'messages', 'package', 'sample', 'duplicates'])\n"
     ]
    }
   ],
   "source": [
    "profset = profile.description_set          #Extracting the info from the profile object\n",
    "print(profset.keys())"
   ]
  },
  {
   "cell_type": "code",
   "execution_count": 180,
   "id": "74f78360",
   "metadata": {},
   "outputs": [
    {
     "name": "stdout",
     "output_type": "stream",
     "text": [
      "dict_keys(['date', 'date_block_num', 'shop_id', 'item_id', 'item_price', 'item_cnt_day', 'item_category_id', 'item_category_name', 'shop_name', 'day', 'month', 'year'])\n"
     ]
    }
   ],
   "source": [
    "attributes = profset[\"variables\"]\n",
    "print(attributes.keys())"
   ]
  },
  {
   "cell_type": "markdown",
   "id": "15579719",
   "metadata": {},
   "source": [
    "## Split dates for more detailed exploration"
   ]
  },
  {
   "cell_type": "code",
   "execution_count": 13,
   "id": "f24571e6",
   "metadata": {},
   "outputs": [
    {
     "data": {
      "text/html": [
       "<div>\n",
       "<style scoped>\n",
       "    .dataframe tbody tr th:only-of-type {\n",
       "        vertical-align: middle;\n",
       "    }\n",
       "\n",
       "    .dataframe tbody tr th {\n",
       "        vertical-align: top;\n",
       "    }\n",
       "\n",
       "    .dataframe thead th {\n",
       "        text-align: right;\n",
       "    }\n",
       "</style>\n",
       "<table border=\"1\" class=\"dataframe\">\n",
       "  <thead>\n",
       "    <tr style=\"text-align: right;\">\n",
       "      <th></th>\n",
       "      <th>date</th>\n",
       "      <th>date_block_num</th>\n",
       "      <th>shop_id</th>\n",
       "      <th>item_id</th>\n",
       "      <th>item_price</th>\n",
       "      <th>item_cnt_day</th>\n",
       "      <th>item_category_id</th>\n",
       "      <th>item_category_name</th>\n",
       "      <th>shop_name</th>\n",
       "      <th>day</th>\n",
       "      <th>month</th>\n",
       "      <th>year</th>\n",
       "    </tr>\n",
       "  </thead>\n",
       "  <tbody>\n",
       "    <tr>\n",
       "      <th>0</th>\n",
       "      <td>2013-02-01</td>\n",
       "      <td>0</td>\n",
       "      <td>59</td>\n",
       "      <td>22154</td>\n",
       "      <td>999.000000</td>\n",
       "      <td>1</td>\n",
       "      <td>37</td>\n",
       "      <td>Кино - Blu-Ray</td>\n",
       "      <td>Ярославль ТЦ \"Альтаир\"</td>\n",
       "      <td>1</td>\n",
       "      <td>2</td>\n",
       "      <td>2013</td>\n",
       "    </tr>\n",
       "    <tr>\n",
       "      <th>1</th>\n",
       "      <td>2013-03-01</td>\n",
       "      <td>0</td>\n",
       "      <td>25</td>\n",
       "      <td>2552</td>\n",
       "      <td>899.000000</td>\n",
       "      <td>1</td>\n",
       "      <td>58</td>\n",
       "      <td>Музыка - Винил</td>\n",
       "      <td>Москва ТРК \"Атриум\"</td>\n",
       "      <td>1</td>\n",
       "      <td>3</td>\n",
       "      <td>2013</td>\n",
       "    </tr>\n",
       "    <tr>\n",
       "      <th>2</th>\n",
       "      <td>2013-05-01</td>\n",
       "      <td>0</td>\n",
       "      <td>25</td>\n",
       "      <td>2552</td>\n",
       "      <td>899.000000</td>\n",
       "      <td>1</td>\n",
       "      <td>58</td>\n",
       "      <td>Музыка - Винил</td>\n",
       "      <td>Москва ТРК \"Атриум\"</td>\n",
       "      <td>1</td>\n",
       "      <td>5</td>\n",
       "      <td>2013</td>\n",
       "    </tr>\n",
       "    <tr>\n",
       "      <th>3</th>\n",
       "      <td>2013-06-01</td>\n",
       "      <td>0</td>\n",
       "      <td>25</td>\n",
       "      <td>2554</td>\n",
       "      <td>1709.050049</td>\n",
       "      <td>1</td>\n",
       "      <td>58</td>\n",
       "      <td>Музыка - Винил</td>\n",
       "      <td>Москва ТРК \"Атриум\"</td>\n",
       "      <td>1</td>\n",
       "      <td>6</td>\n",
       "      <td>2013</td>\n",
       "    </tr>\n",
       "  </tbody>\n",
       "</table>\n",
       "</div>"
      ],
      "text/plain": [
       "        date  date_block_num  shop_id  item_id   item_price  item_cnt_day  \\\n",
       "0 2013-02-01               0       59    22154   999.000000             1   \n",
       "1 2013-03-01               0       25     2552   899.000000             1   \n",
       "2 2013-05-01               0       25     2552   899.000000             1   \n",
       "3 2013-06-01               0       25     2554  1709.050049             1   \n",
       "\n",
       "   item_category_id item_category_name               shop_name  day  month  \\\n",
       "0                37     Кино - Blu-Ray  Ярославль ТЦ \"Альтаир\"    1      2   \n",
       "1                58     Музыка - Винил     Москва ТРК \"Атриум\"    1      3   \n",
       "2                58     Музыка - Винил     Москва ТРК \"Атриум\"    1      5   \n",
       "3                58     Музыка - Винил     Москва ТРК \"Атриум\"    1      6   \n",
       "\n",
       "   year  \n",
       "0  2013  \n",
       "1  2013  \n",
       "2  2013  \n",
       "3  2013  "
      ]
     },
     "execution_count": 13,
     "metadata": {},
     "output_type": "execute_result"
    }
   ],
   "source": [
    "train['date'] = pd.to_datetime(train['date'], format='%m.%Y')\n",
    "train['day'] = train['date'].dt.day\n",
    "train['month'] = train['date'].dt.month\n",
    "train['year'] = train['date'].dt.year\n",
    "\n",
    "train.head(4)"
   ]
  },
  {
   "cell_type": "markdown",
   "id": "576b3491",
   "metadata": {},
   "source": [
    "## Check our data for missed values"
   ]
  },
  {
   "cell_type": "code",
   "execution_count": 14,
   "id": "21c5634e",
   "metadata": {},
   "outputs": [
    {
     "data": {
      "text/plain": [
       "date                  0\n",
       "date_block_num        0\n",
       "shop_id               0\n",
       "item_id               0\n",
       "item_price            0\n",
       "item_cnt_day          0\n",
       "item_category_id      0\n",
       "item_category_name    0\n",
       "shop_name             0\n",
       "day                   0\n",
       "month                 0\n",
       "year                  0\n",
       "dtype: int64"
      ]
     },
     "execution_count": 14,
     "metadata": {},
     "output_type": "execute_result"
    }
   ],
   "source": [
    "train.isnull().sum()"
   ]
  },
  {
   "cell_type": "markdown",
   "id": "0c6ba6af",
   "metadata": {},
   "source": [
    "## Group data by date, shop, item and category "
   ]
  },
  {
   "cell_type": "code",
   "execution_count": 15,
   "id": "84674817",
   "metadata": {},
   "outputs": [
    {
     "data": {
      "text/html": [
       "<div>\n",
       "<style scoped>\n",
       "    .dataframe tbody tr th:only-of-type {\n",
       "        vertical-align: middle;\n",
       "    }\n",
       "\n",
       "    .dataframe tbody tr th {\n",
       "        vertical-align: top;\n",
       "    }\n",
       "\n",
       "    .dataframe thead th {\n",
       "        text-align: right;\n",
       "    }\n",
       "</style>\n",
       "<table border=\"1\" class=\"dataframe\">\n",
       "  <thead>\n",
       "    <tr style=\"text-align: right;\">\n",
       "      <th></th>\n",
       "      <th>date_block_num</th>\n",
       "      <th>shop_id</th>\n",
       "      <th>item_id</th>\n",
       "      <th>item_category_id</th>\n",
       "      <th>item_price</th>\n",
       "      <th>item_cnt_month</th>\n",
       "      <th>month</th>\n",
       "      <th>year</th>\n",
       "    </tr>\n",
       "  </thead>\n",
       "  <tbody>\n",
       "    <tr>\n",
       "      <th>0</th>\n",
       "      <td>0</td>\n",
       "      <td>0</td>\n",
       "      <td>32</td>\n",
       "      <td>40</td>\n",
       "      <td>221.0</td>\n",
       "      <td>6</td>\n",
       "      <td>1</td>\n",
       "      <td>2013</td>\n",
       "    </tr>\n",
       "    <tr>\n",
       "      <th>1</th>\n",
       "      <td>0</td>\n",
       "      <td>0</td>\n",
       "      <td>33</td>\n",
       "      <td>37</td>\n",
       "      <td>347.0</td>\n",
       "      <td>3</td>\n",
       "      <td>1</td>\n",
       "      <td>2013</td>\n",
       "    </tr>\n",
       "    <tr>\n",
       "      <th>2</th>\n",
       "      <td>0</td>\n",
       "      <td>0</td>\n",
       "      <td>35</td>\n",
       "      <td>40</td>\n",
       "      <td>247.0</td>\n",
       "      <td>1</td>\n",
       "      <td>1</td>\n",
       "      <td>2013</td>\n",
       "    </tr>\n",
       "    <tr>\n",
       "      <th>3</th>\n",
       "      <td>0</td>\n",
       "      <td>0</td>\n",
       "      <td>43</td>\n",
       "      <td>40</td>\n",
       "      <td>221.0</td>\n",
       "      <td>1</td>\n",
       "      <td>1</td>\n",
       "      <td>2013</td>\n",
       "    </tr>\n",
       "    <tr>\n",
       "      <th>4</th>\n",
       "      <td>0</td>\n",
       "      <td>0</td>\n",
       "      <td>51</td>\n",
       "      <td>57</td>\n",
       "      <td>128.5</td>\n",
       "      <td>2</td>\n",
       "      <td>1</td>\n",
       "      <td>2013</td>\n",
       "    </tr>\n",
       "    <tr>\n",
       "      <th>5</th>\n",
       "      <td>0</td>\n",
       "      <td>0</td>\n",
       "      <td>61</td>\n",
       "      <td>43</td>\n",
       "      <td>195.0</td>\n",
       "      <td>1</td>\n",
       "      <td>10</td>\n",
       "      <td>2013</td>\n",
       "    </tr>\n",
       "    <tr>\n",
       "      <th>6</th>\n",
       "      <td>0</td>\n",
       "      <td>0</td>\n",
       "      <td>75</td>\n",
       "      <td>40</td>\n",
       "      <td>76.0</td>\n",
       "      <td>1</td>\n",
       "      <td>1</td>\n",
       "      <td>2013</td>\n",
       "    </tr>\n",
       "    <tr>\n",
       "      <th>7</th>\n",
       "      <td>0</td>\n",
       "      <td>0</td>\n",
       "      <td>88</td>\n",
       "      <td>40</td>\n",
       "      <td>76.0</td>\n",
       "      <td>1</td>\n",
       "      <td>1</td>\n",
       "      <td>2013</td>\n",
       "    </tr>\n",
       "  </tbody>\n",
       "</table>\n",
       "</div>"
      ],
      "text/plain": [
       "   date_block_num  shop_id  item_id  item_category_id  item_price  \\\n",
       "0               0        0       32                40       221.0   \n",
       "1               0        0       33                37       347.0   \n",
       "2               0        0       35                40       247.0   \n",
       "3               0        0       43                40       221.0   \n",
       "4               0        0       51                57       128.5   \n",
       "5               0        0       61                43       195.0   \n",
       "6               0        0       75                40        76.0   \n",
       "7               0        0       88                40        76.0   \n",
       "\n",
       "   item_cnt_month  month  year  \n",
       "0               6      1  2013  \n",
       "1               3      1  2013  \n",
       "2               1      1  2013  \n",
       "3               1      1  2013  \n",
       "4               2      1  2013  \n",
       "5               1     10  2013  \n",
       "6               1      1  2013  \n",
       "7               1      1  2013  "
      ]
     },
     "execution_count": 15,
     "metadata": {},
     "output_type": "execute_result"
    }
   ],
   "source": [
    "# group data by month\n",
    "train_grouped_by_month = train[[\"month\", \"date_block_num\", \"shop_id\", \"item_id\", \"item_price\", \"item_cnt_day\", \"item_category_id\", \"year\"]].groupby(['date_block_num',\"shop_id\", \"item_id\", \"item_category_id\"]).agg({\"item_price\":\"mean\",\"item_cnt_day\":\"sum\",\"month\":\"min\", \"year\":\"min\"}).reset_index()\n",
    "train_grouped_by_month.rename(columns={\"item_cnt_day\": \"item_cnt_month\"}, inplace=True)\n",
    "\n",
    "train_grouped_by_month.head(8)"
   ]
  },
  {
   "cell_type": "markdown",
   "id": "ba125001",
   "metadata": {},
   "source": [
    "## Count histograms"
   ]
  },
  {
   "cell_type": "code",
   "execution_count": 229,
   "id": "b7e7ab58",
   "metadata": {},
   "outputs": [
    {
     "data": {
      "image/png": "[encoded data removed]",
      "text/plain": [
       "<Figure size 1008x360 with 3 Axes>"
      ]
     },
     "metadata": {
      "needs_background": "light"
     },
     "output_type": "display_data"
    }
   ],
   "source": [
    "fig, axes = plt.subplots(nrows=1, ncols=3, figsize=(14, 5))\n",
    "\n",
    "axes[0].hist(train_grouped_by_month['item_cnt_month'])\n",
    "axes[0].set_title('Count of items by month')\n",
    "\n",
    "axes[1].hist(train_grouped_by_month.query('item_cnt_month > 750')['item_cnt_month'])\n",
    "axes[1].set_title('Count of items which count is > 750')\n",
    "\n",
    "axes[2].hist(np.log(1 + np.log(1 + np.log(1 + train_grouped_by_month['item_cnt_month']))))\n",
    "axes[2].set_title('Count of items logarithmed three times')\n",
    "\n",
    "fig    \n",
    "plt.tight_layout()"
   ]
  },
  {
   "cell_type": "markdown",
   "id": "a29a017c",
   "metadata": {},
   "source": [
    "### Here we can see that biggest part of count values belongs to [0,250], so we can explorate this interval separately"
   ]
  },
  {
   "cell_type": "code",
   "execution_count": 227,
   "id": "f96486ee",
   "metadata": {},
   "outputs": [
    {
     "data": {
      "text/plain": [
       "Text(0.5, 1.0, 'Box plot')"
      ]
     },
     "execution_count": 227,
     "metadata": {},
     "output_type": "execute_result"
    },
    {
     "data": {
      "image/png": "[encoded data removed]",
      "text/plain": [
       "<Figure size 432x288 with 1 Axes>"
      ]
     },
     "metadata": {
      "needs_background": "light"
     },
     "output_type": "display_data"
    }
   ],
   "source": [
    "sns.boxplot(x=\"item_cnt_month\", data=train_grouped_by_month).set_title('Box plot')"
   ]
  },
  {
   "cell_type": "markdown",
   "id": "f13f9ac7",
   "metadata": {},
   "source": [
    "### We can see that almost all values are clipped into [0, 750], so we can explorate this interval, interval from 750 to 1300, and outliers, separately"
   ]
  },
  {
   "cell_type": "markdown",
   "id": "a72a569f",
   "metadata": {},
   "source": [
    "## Price histograms"
   ]
  },
  {
   "cell_type": "code",
   "execution_count": 242,
   "id": "52f48c32",
   "metadata": {},
   "outputs": [
    {
     "data": {
      "image/png": "[encoded data removed]",
      "text/plain": [
       "<Figure size 936x360 with 3 Axes>"
      ]
     },
     "metadata": {
      "needs_background": "light"
     },
     "output_type": "display_data"
    }
   ],
   "source": [
    "fig, axes = plt.subplots(nrows=1, ncols=3, figsize=(13, 5))\n",
    "\n",
    "axes[0].hist(train_grouped_by_month['item_price'])\n",
    "axes[0].set_title('Price histogram')\n",
    "\n",
    "axes[1].hist(np.log(train_grouped_by_month['item_price']), bins=40)\n",
    "axes[1].set_title('Logarithmed price histogram')\n",
    "\n",
    "axes[2].hist(train_grouped_by_month.query('item_price > 45000 and item_price < 350000')['item_price'])\n",
    "axes[2].set_title('Price histogram for values in [45000, 350000]')\n",
    "fig    \n",
    "plt.tight_layout()"
   ]
  },
  {
   "cell_type": "markdown",
   "id": "d494ce48",
   "metadata": {},
   "source": [
    "### From this graphics we can see that almost all values belongs to [0, 25000] and between 75000 and 275000 there are no values. So we can explorate separetely groups [0, 25000] and [275000, 300000]"
   ]
  },
  {
   "cell_type": "code",
   "execution_count": 244,
   "id": "3b2d1c1d",
   "metadata": {},
   "outputs": [
    {
     "data": {
      "text/plain": [
       "((array([-4.92088874, -4.74440514, -4.64908479, ...,  4.64908479,\n",
       "          4.74440514,  4.92088874]),\n",
       "  array([-2.4079456, -2.4079456, -2.3644605, ..., 10.815409 , 10.839561 ,\n",
       "         12.63779  ], dtype=float32)),\n",
       " (1.009043665803779, 6.071694374084473, 0.9781532892968127))"
      ]
     },
     "execution_count": 244,
     "metadata": {},
     "output_type": "execute_result"
    },
    {
     "data": {
      "image/png": "[encoded data removed]",
      "text/plain": [
       "<Figure size 432x288 with 1 Axes>"
      ]
     },
     "metadata": {
      "needs_background": "light"
     },
     "output_type": "display_data"
    }
   ],
   "source": [
    "stats.probplot(np.log(train_grouped_by_month['item_price']), plot=plt)"
   ]
  },
  {
   "cell_type": "markdown",
   "id": "4c54b108",
   "metadata": {},
   "source": [
    "### We can see that logarithmed data are very similar to normal distribution from -2 to 2 standart deviations. Also we can see huge offset for quantiles less -2 s.d., so it's have sense to explorate this separetely"
   ]
  },
  {
   "cell_type": "code",
   "execution_count": 215,
   "id": "407d166e",
   "metadata": {},
   "outputs": [
    {
     "data": {
      "text/plain": [
       "Text(0.5, 1.0, 'Sales count of price')"
      ]
     },
     "execution_count": 215,
     "metadata": {},
     "output_type": "execute_result"
    },
    {
     "data": {
      "image/png": "[encoded data removed]",
      "text/plain": [
       "<Figure size 432x288 with 1 Axes>"
      ]
     },
     "metadata": {
      "needs_background": "light"
     },
     "output_type": "display_data"
    }
   ],
   "source": [
    "train_grouped_by_month.plot.scatter(x='item_price', y='item_cnt_month').set_title('Sales count of price')"
   ]
  },
  {
   "cell_type": "code",
   "execution_count": 214,
   "id": "d55964d4",
   "metadata": {},
   "outputs": [
    {
     "data": {
      "text/plain": [
       "<AxesSubplot:xlabel='item_price', ylabel='item_cnt_month'>"
      ]
     },
     "execution_count": 214,
     "metadata": {},
     "output_type": "execute_result"
    },
    {
     "data": {
      "image/png": "[encoded data removed]",
      "text/plain": [
       "<Figure size 432x288 with 1 Axes>"
      ]
     },
     "metadata": {
      "needs_background": "light"
     },
     "output_type": "display_data"
    }
   ],
   "source": [
    "train_grouped_by_month.query('item_price < 300000 and item_cnt_month < 2000').plot.scatter(x='item_price', y='item_cnt_month')"
   ]
  },
  {
   "cell_type": "markdown",
   "id": "d8939c24",
   "metadata": {},
   "source": [
    "### Here we also see outliers for price values ~300000. Also we see that items with price [0,5000] have various sales counts (good idea is to split this group in some way). But price values >5000 have smaller various, except outliers. "
   ]
  },
  {
   "cell_type": "markdown",
   "id": "09508a81",
   "metadata": {},
   "source": [
    "## Function for obtaining regression line for Series"
   ]
  },
  {
   "cell_type": "code",
   "execution_count": 131,
   "id": "2f34e056",
   "metadata": {},
   "outputs": [],
   "source": [
    "def get_regression_line(data: pd.Series) -> pd.Series:\n",
    "    size = data.size\n",
    "    x = pd.Series(range(size))\n",
    "    \n",
    "    mean_x = x.mean()\n",
    "    sigma_x = x.std()\n",
    "    \n",
    "    mean_y = data.mean()\n",
    "    sigma_y = data.std()\n",
    "    \n",
    "    corr_coef = 0\n",
    "\n",
    "    #calculate correlation coefficient\n",
    "    for i in range(size):\n",
    "        corr_coef += (x[i] - mean_x) * (data[i] - mean_y)\n",
    "\n",
    "    corr_coef /= (size * sigma_x * sigma_y)\n",
    "\n",
    "    regression_line = pd.Series(mean_y + corr_coef * sigma_y / sigma_x * (k - mean_x) for k in range(size))\n",
    "    \n",
    "    return regression_line"
   ]
  },
  {
   "cell_type": "markdown",
   "id": "e6f9bb92",
   "metadata": {},
   "source": [
    "## From this graphic we can obtain that sales have huge values on december"
   ]
  },
  {
   "cell_type": "code",
   "execution_count": 138,
   "id": "4cc29c89",
   "metadata": {},
   "outputs": [
    {
     "data": {
      "text/plain": [
       "Text(0.5, 1.0, 'Count of sales by date block')"
      ]
     },
     "execution_count": 138,
     "metadata": {},
     "output_type": "execute_result"
    },
    {
     "data": {
      "image/png": "[encoded data removed]",
      "text/plain": [
       "<Figure size 432x288 with 1 Axes>"
      ]
     },
     "metadata": {
      "needs_background": "light"
     },
     "output_type": "display_data"
    }
   ],
   "source": [
    "sales_by_date = train_grouped_by_month.groupby(['date_block_num'])['item_cnt_month'].sum()\n",
    "sales_by_date.plot().set_title('Count of sales by date block')"
   ]
  },
  {
   "cell_type": "markdown",
   "id": "36ad107f",
   "metadata": {},
   "source": [
    "### We can see that sales are decreasing, so it have sense to delete trend here. "
   ]
  },
  {
   "cell_type": "markdown",
   "id": "0f4a4788",
   "metadata": {},
   "source": [
    "## Construct regression line for count of sales"
   ]
  },
  {
   "cell_type": "code",
   "execution_count": 139,
   "id": "60326139",
   "metadata": {},
   "outputs": [
    {
     "data": {
      "text/plain": [
       "Text(0.5, 1.0, 'Regression line')"
      ]
     },
     "execution_count": 139,
     "metadata": {},
     "output_type": "execute_result"
    },
    {
     "data": {
      "image/png": "[encoded data removed]",
      "text/plain": [
       "<Figure size 432x288 with 1 Axes>"
      ]
     },
     "metadata": {
      "needs_background": "light"
     },
     "output_type": "display_data"
    }
   ],
   "source": [
    "regression_line_count = get_regression_line(sales_by_date)\n",
    "regression_line_count.plot().set_title('Regression line')"
   ]
  },
  {
   "cell_type": "markdown",
   "id": "19260215",
   "metadata": {},
   "source": [
    "### Regression line shows that sales count is really decreasing"
   ]
  },
  {
   "cell_type": "markdown",
   "id": "2b746309",
   "metadata": {},
   "source": [
    "## Here we delete trend for count of sales"
   ]
  },
  {
   "cell_type": "code",
   "execution_count": 140,
   "id": "fb4bfe77",
   "metadata": {},
   "outputs": [
    {
     "data": {
      "text/plain": [
       "Text(0.5, 1.0, 'Count of sales without trend')"
      ]
     },
     "execution_count": 140,
     "metadata": {},
     "output_type": "execute_result"
    },
    {
     "data": {
      "image/png": "[encoded data removed]",
      "text/plain": [
       "<Figure size 432x288 with 1 Axes>"
      ]
     },
     "metadata": {
      "needs_background": "light"
     },
     "output_type": "display_data"
    }
   ],
   "source": [
    "sales_without_trend = sales_by_date - regression_line\n",
    "sales_without_trend.plot().set_title('Count of sales without trend')"
   ]
  },
  {
   "cell_type": "markdown",
   "id": "2c4081d2",
   "metadata": {},
   "source": [
    "### We can notice cycles at this graphic, so it's have sense to group data by monthes and delete seasonality"
   ]
  },
  {
   "cell_type": "code",
   "execution_count": 152,
   "id": "bb2852ea",
   "metadata": {},
   "outputs": [
    {
     "data": {
      "text/plain": [
       "Text(0.5, 1.0, 'Mean count of sales without trend by month')"
      ]
     },
     "execution_count": 152,
     "metadata": {},
     "output_type": "execute_result"
    },
    {
     "data": {
      "image/png": "[encoded data removed]",
      "text/plain": [
       "<Figure size 432x288 with 1 Axes>"
      ]
     },
     "metadata": {
      "needs_background": "light"
     },
     "output_type": "display_data"
    }
   ],
   "source": [
    "# group count of sales by month\n",
    "sales_count_by_month = pd.Series([0 for i in range(12)])\n",
    "\n",
    "for i in range(sales_without_trend.size):\n",
    "    sales_count_by_month[i % 12] += sales_without_trend[i]\n",
    "    \n",
    "# divide by count of monthes to find mean value\n",
    "for i in range(sales_price_by_month.size):\n",
    "    sales_count_by_month[i] /= int((sales_without_trend.size - i) / 12)\n",
    "    \n",
    "sales_count_by_month.plot().set_title('Mean count of sales without trend by month')"
   ]
  },
  {
   "cell_type": "markdown",
   "id": "dd34edc9",
   "metadata": {},
   "source": [
    "### We see huge sales by decembers, increasing sales count from 6 month to 11, stagnation from 3 month to 6 and the standart sales from 0 to 2 month"
   ]
  },
  {
   "cell_type": "markdown",
   "id": "747ebeef",
   "metadata": {},
   "source": [
    "## Total price by date"
   ]
  },
  {
   "cell_type": "code",
   "execution_count": 141,
   "id": "387d915d",
   "metadata": {},
   "outputs": [
    {
     "data": {
      "text/plain": [
       "Text(0.5, 1.0, 'Total price for date')"
      ]
     },
     "execution_count": 141,
     "metadata": {},
     "output_type": "execute_result"
    },
    {
     "data": {
      "image/png": "[encoded data removed]",
      "text/plain": [
       "<Figure size 432x288 with 1 Axes>"
      ]
     },
     "metadata": {
      "needs_background": "light"
     },
     "output_type": "display_data"
    }
   ],
   "source": [
    "train_grouped_by_month['total_price'] = train_grouped_by_month['item_price'] * train_grouped_by_month['item_cnt_month']\n",
    "sales_price_by_date = train_grouped_by_month.groupby(['date_block_num'])['total_price'].sum()\n",
    "sales_price_by_date.plot().set_title('Total price for date')"
   ]
  },
  {
   "cell_type": "markdown",
   "id": "e85f95dc",
   "metadata": {},
   "source": [
    "### Here we also see decreasing trend with sycles, so also good idea is to group data by monthes and delete seasonality"
   ]
  },
  {
   "cell_type": "markdown",
   "id": "27632046",
   "metadata": {},
   "source": [
    "## Construct regression line for total price by date"
   ]
  },
  {
   "cell_type": "code",
   "execution_count": 142,
   "id": "e82696c5",
   "metadata": {},
   "outputs": [
    {
     "data": {
      "text/plain": [
       "Text(0.5, 1.0, 'Regression line')"
      ]
     },
     "execution_count": 142,
     "metadata": {},
     "output_type": "execute_result"
    },
    {
     "data": {
      "image/png": "[encoded data removed]",
      "text/plain": [
       "<Figure size 432x288 with 1 Axes>"
      ]
     },
     "metadata": {
      "needs_background": "light"
     },
     "output_type": "display_data"
    }
   ],
   "source": [
    "regression_line_total_price = get_regression_line(sales_price_by_date)\n",
    "regression_line_total_price.plot().set_title('Regression line')"
   ]
  },
  {
   "cell_type": "markdown",
   "id": "c4cab7d6",
   "metadata": {},
   "source": [
    "## Delete trend for total price of sales"
   ]
  },
  {
   "cell_type": "code",
   "execution_count": 143,
   "id": "9cbce23d",
   "metadata": {},
   "outputs": [
    {
     "data": {
      "text/plain": [
       "Text(0.5, 1.0, 'Total price by date without trend')"
      ]
     },
     "execution_count": 143,
     "metadata": {},
     "output_type": "execute_result"
    },
    {
     "data": {
      "image/png": "[encoded data removed]",
      "text/plain": [
       "<Figure size 432x288 with 1 Axes>"
      ]
     },
     "metadata": {
      "needs_background": "light"
     },
     "output_type": "display_data"
    }
   ],
   "source": [
    "price_total_without_trend = sales_price_by_date - regression_line_total_price\n",
    "price_total_without_trend.plot().set_title('Total price by date without trend')"
   ]
  },
  {
   "cell_type": "markdown",
   "id": "252b6c75",
   "metadata": {},
   "source": [
    "### We can see here cycles, so we need to group data by monthes"
   ]
  },
  {
   "cell_type": "code",
   "execution_count": 151,
   "id": "f578c9e2",
   "metadata": {},
   "outputs": [
    {
     "data": {
      "text/plain": [
       "Text(0.5, 1.0, 'Mean count of sales without trend by month')"
      ]
     },
     "execution_count": 151,
     "metadata": {},
     "output_type": "execute_result"
    },
    {
     "data": {
      "image/png": "[encoded data removed]",
      "text/plain": [
       "<Figure size 432x288 with 1 Axes>"
      ]
     },
     "metadata": {
      "needs_background": "light"
     },
     "output_type": "display_data"
    }
   ],
   "source": [
    "# group count of total price by month\n",
    "sales_price_by_month = pd.Series([0 for i in range(12)])\n",
    "\n",
    "for i in range(price_total_without_trend.size):\n",
    "    sales_price_by_month[i % 12] += price_total_without_trend[i]\n",
    "    \n",
    "# divide by count of monthes to find mean value\n",
    "for i in range(sales_price_by_month.size):\n",
    "    sales_price_by_month[i] /= int((price_total_without_trend.size - i) / 12)\n",
    "    \n",
    "sales_price_by_month.plot().set_title('Mean count of sales without trend by month')"
   ]
  },
  {
   "cell_type": "markdown",
   "id": "ce974431",
   "metadata": {},
   "source": [
    "### This graphic is very similar to the same count graphic, except 9'th month (at previous graphic sales decreased from 8 to 11 monthes). So we can explorate 9'th month"
   ]
  },
  {
   "cell_type": "markdown",
   "id": "5d703a4c",
   "metadata": {},
   "source": [
    "## Number of items per category"
   ]
  },
  {
   "cell_type": "code",
   "execution_count": 288,
   "id": "63204d0c",
   "metadata": {},
   "outputs": [
    {
     "data": {
      "image/png": "[encoded data removed]",
      "text/plain": [
       "<Figure size 432x288 with 1 Axes>"
      ]
     },
     "metadata": {
      "needs_background": "light"
     },
     "output_type": "display_data"
    }
   ],
   "source": [
    "x=items.groupby(['item_category_id']).count()\n",
    "x=x.sort_values(by='item_id', ascending=False)\n",
    "x=x.iloc[0:15].reset_index()\n",
    "x['item_category_id'] = x['item_category_id'].astype(str)\n",
    "#x=x.reset_index()\n",
    "\n",
    "ax= sns.barplot(x=x.item_category_id, y=x.item_id, alpha=0.85)\n",
    "\n",
    "ax.set_title('Count of different items for categories')\n",
    "ax.set_xlabel('Category id')\n",
    "ax.set_ylabel('Count of different items')\n",
    "\n",
    "plt.show()\n",
    "# TODO: sort by amount, not categories"
   ]
  },
  {
   "cell_type": "markdown",
   "id": "fe82fece",
   "metadata": {},
   "source": [
    "### We see that category №40 has more different items, so we can split it into bins in future"
   ]
  },
  {
   "cell_type": "markdown",
   "id": "6c0f3ebe",
   "metadata": {},
   "source": [
    "## Obviously sales are decreaing"
   ]
  },
  {
   "cell_type": "code",
   "execution_count": 25,
   "id": "86adaf50",
   "metadata": {},
   "outputs": [
    {
     "data": {
      "image/png": "[encoded data removed]",
      "text/plain": [
       "<Figure size 432x288 with 1 Axes>"
      ]
     },
     "metadata": {
      "needs_background": "light"
     },
     "output_type": "display_data"
    }
   ],
   "source": [
    "# rolling mean and standart deviation\n",
    "plt.plot(sales_by_date.rolling(window=5,center=False).mean(),label='Rolling Mean');\n",
    "plt.plot(sales_by_date.rolling(window=5,center=False).std(),label='Rolling sd');\n",
    "plt.legend();"
   ]
  },
  {
   "cell_type": "markdown",
   "id": "ff6ffb67",
   "metadata": {},
   "source": [
    "### We see that rolling mean and standart deviation are also increased for decembers"
   ]
  },
  {
   "cell_type": "code",
   "execution_count": 245,
   "id": "5111350e",
   "metadata": {},
   "outputs": [],
   "source": [
    "# check for sales statisticks depending on shop\n",
    "shop_mean = train_grouped_by_month.groupby(['shop_id'], as_index=False)['item_cnt_month'].mean()\n",
    "shop_sum = train_grouped_by_month.groupby(['shop_id'], as_index=False)['item_cnt_month'].sum()\n",
    "\n",
    "#f, axes = plt.subplots(2, 1, figsize=(22, 10), sharex=True)\n",
    "#sns.barplot(x=\"shop_id\", y=\"item_cnt_month\", data=shop_mean, ax=axes[0], palette=\"rocket\").set_title(\"Monthly mean\")\n",
    "#sns.barplot(x=\"shop_id\", y=\"item_cnt_month\", data=shop_sum, ax=axes[1], palette=\"rocket\").set_title(\"Monthly sum\")\n",
    "#plt.show()"
   ]
  },
  {
   "cell_type": "code",
   "execution_count": 27,
   "id": "ce9abbd6",
   "metadata": {},
   "outputs": [
    {
     "data": {
      "text/html": [
       "<div>\n",
       "<style scoped>\n",
       "    .dataframe tbody tr th:only-of-type {\n",
       "        vertical-align: middle;\n",
       "    }\n",
       "\n",
       "    .dataframe tbody tr th {\n",
       "        vertical-align: top;\n",
       "    }\n",
       "\n",
       "    .dataframe thead th {\n",
       "        text-align: right;\n",
       "    }\n",
       "</style>\n",
       "<table border=\"1\" class=\"dataframe\">\n",
       "  <thead>\n",
       "    <tr style=\"text-align: right;\">\n",
       "      <th></th>\n",
       "      <th>shop_id</th>\n",
       "      <th>item_id</th>\n",
       "      <th>item_category_id</th>\n",
       "      <th>item_price</th>\n",
       "      <th>month</th>\n",
       "      <th>year</th>\n",
       "      <th>shop_mean</th>\n",
       "      <th>item_mean</th>\n",
       "      <th>shop_item_mean</th>\n",
       "      <th>year_mean</th>\n",
       "      <th>month_mean</th>\n",
       "    </tr>\n",
       "  </thead>\n",
       "  <tbody>\n",
       "    <tr>\n",
       "      <th>187136</th>\n",
       "      <td>2</td>\n",
       "      <td>31</td>\n",
       "      <td>37</td>\n",
       "      <td>699.0</td>\n",
       "      <td>12</td>\n",
       "      <td>2013</td>\n",
       "      <td>1.979811</td>\n",
       "      <td>2.861386</td>\n",
       "      <td>1.6</td>\n",
       "      <td>2.281527</td>\n",
       "      <td>1.490972</td>\n",
       "    </tr>\n",
       "    <tr>\n",
       "      <th>187137</th>\n",
       "      <td>2</td>\n",
       "      <td>464</td>\n",
       "      <td>49</td>\n",
       "      <td>299.0</td>\n",
       "      <td>4</td>\n",
       "      <td>2013</td>\n",
       "      <td>1.979811</td>\n",
       "      <td>2.417582</td>\n",
       "      <td>1.4</td>\n",
       "      <td>2.281527</td>\n",
       "      <td>2.253135</td>\n",
       "    </tr>\n",
       "    <tr>\n",
       "      <th>187138</th>\n",
       "      <td>2</td>\n",
       "      <td>482</td>\n",
       "      <td>73</td>\n",
       "      <td>3300.0</td>\n",
       "      <td>4</td>\n",
       "      <td>2013</td>\n",
       "      <td>1.979811</td>\n",
       "      <td>3.213443</td>\n",
       "      <td>1.4</td>\n",
       "      <td>2.281527</td>\n",
       "      <td>2.253135</td>\n",
       "    </tr>\n",
       "  </tbody>\n",
       "</table>\n",
       "</div>"
      ],
      "text/plain": [
       "        shop_id  item_id  item_category_id  item_price  month  year  \\\n",
       "187136        2       31                37       699.0     12  2013   \n",
       "187137        2      464                49       299.0      4  2013   \n",
       "187138        2      482                73      3300.0      4  2013   \n",
       "\n",
       "        shop_mean  item_mean  shop_item_mean  year_mean  month_mean  \n",
       "187136   1.979811   2.861386             1.6   2.281527    1.490972  \n",
       "187137   1.979811   2.417582             1.4   2.281527    2.253135  \n",
       "187138   1.979811   3.213443             1.4   2.281527    2.253135  "
      ]
     },
     "execution_count": 27,
     "metadata": {},
     "output_type": "execute_result"
    }
   ],
   "source": [
    "gp_shop_mean = train_grouped_by_month.groupby(['shop_id']).agg({'item_cnt_month': ['mean']})\n",
    "gp_shop_mean.columns = ['shop_mean']\n",
    "gp_shop_mean.reset_index(inplace=True)\n",
    "\n",
    "gp_item_mean = train_grouped_by_month.groupby(['item_id']).agg({'item_cnt_month': ['mean']})\n",
    "gp_item_mean.columns = ['item_mean']\n",
    "gp_item_mean.reset_index(inplace=True)\n",
    "\n",
    "gp_shop_item_mean = train_grouped_by_month.groupby(['shop_id', 'item_id']).agg({'item_cnt_month': ['mean']})\n",
    "gp_shop_item_mean.columns = ['shop_item_mean']\n",
    "gp_shop_item_mean.reset_index(inplace=True)\n",
    "\n",
    "gp_year_mean = train_grouped_by_month.groupby(['year']).agg({'item_cnt_month': ['mean']})\n",
    "gp_year_mean.columns = ['year_mean']\n",
    "gp_year_mean.reset_index(inplace=True)\n",
    "\n",
    "gp_month_mean = train_grouped_by_month.groupby(['month']).agg({'item_cnt_month': ['mean']})\n",
    "gp_month_mean.columns = ['month_mean']\n",
    "gp_month_mean.reset_index(inplace=True)\n",
    "\n",
    "train_grouped_by_month = pd.merge(train_grouped_by_month, gp_shop_mean, on=['shop_id'], how='left')\n",
    "train_grouped_by_month = pd.merge(train_grouped_by_month, gp_item_mean, on=['item_id'], how='left')\n",
    "train_grouped_by_month = pd.merge(train_grouped_by_month, gp_shop_item_mean, on=['shop_id', 'item_id'], how='left')\n",
    "train_grouped_by_month = pd.merge(train_grouped_by_month, gp_year_mean, on=['year'], how='left')\n",
    "train_grouped_by_month = pd.merge(train_grouped_by_month, gp_month_mean, on=['month'], how='left')\n",
    "\n",
    "train_set = train_grouped_by_month.query('date_block_num < 30').copy()\n",
    "validation_set = train_grouped_by_month.query('date_block_num >= 30 and date_block_num < 33').copy()\n",
    "\n",
    "X_train = train_set.drop(['item_cnt_month', 'date_block_num'], axis=1)\n",
    "Y_train = train_set['item_cnt_month'].astype(int)\n",
    "\n",
    "X_val = validation_set.drop(['item_cnt_month', 'date_block_num'], axis=1)\n",
    "Y_val = validation_set['item_cnt_month'].astype(int)\n",
    "\n",
    "test_upd = pd.merge(test, gp_shop_mean, on=['shop_id'], how='left')\n",
    "test_upd = pd.merge(test_upd, gp_item_mean, on=['item_id'], how='left')\n",
    "test_upd = pd.merge(test_upd, gp_shop_item_mean, on=['shop_id', 'item_id'], how='left')\n",
    "#test = pd.merge(test, gp_year_mean, on=['year'], how='left')\n",
    "#test = pd.merge(test, gp_month_mean, on=['month'], how='left')\n",
    "\n",
    "# TODO: validation function\n",
    "\n",
    "X_train.head(3)"
   ]
  },
  {
   "cell_type": "code",
   "execution_count": 28,
   "id": "18d3f2e1",
   "metadata": {},
   "outputs": [
    {
     "name": "stderr",
     "output_type": "stream",
     "text": [
      "C:\\Users\\Yauheni_Minau\\Anaconda3\\lib\\site-packages\\pandas\\core\\generic.py:6392: SettingWithCopyWarning: \n",
      "A value is trying to be set on a copy of a slice from a DataFrame\n",
      "\n",
      "See the caveats in the documentation: https://pandas.pydata.org/pandas-docs/stable/user_guide/indexing.html#returning-a-view-versus-a-copy\n",
      "  return self._update_inplace(result)\n"
     ]
    },
    {
     "data": {
      "text/html": [
       "<div>\n",
       "<style scoped>\n",
       "    .dataframe tbody tr th:only-of-type {\n",
       "        vertical-align: middle;\n",
       "    }\n",
       "\n",
       "    .dataframe tbody tr th {\n",
       "        vertical-align: top;\n",
       "    }\n",
       "\n",
       "    .dataframe thead th {\n",
       "        text-align: right;\n",
       "    }\n",
       "</style>\n",
       "<table border=\"1\" class=\"dataframe\">\n",
       "  <thead>\n",
       "    <tr style=\"text-align: right;\">\n",
       "      <th></th>\n",
       "      <th>shop_mean</th>\n",
       "      <th>shop_item_mean</th>\n",
       "      <th>item_mean</th>\n",
       "    </tr>\n",
       "  </thead>\n",
       "  <tbody>\n",
       "    <tr>\n",
       "      <th>795000</th>\n",
       "      <td>1.632631</td>\n",
       "      <td>4.750000</td>\n",
       "      <td>3.647303</td>\n",
       "    </tr>\n",
       "    <tr>\n",
       "      <th>370914</th>\n",
       "      <td>2.757016</td>\n",
       "      <td>1.000000</td>\n",
       "      <td>1.125000</td>\n",
       "    </tr>\n",
       "    <tr>\n",
       "      <th>912936</th>\n",
       "      <td>2.349816</td>\n",
       "      <td>1.000000</td>\n",
       "      <td>1.250000</td>\n",
       "    </tr>\n",
       "    <tr>\n",
       "      <th>920756</th>\n",
       "      <td>2.054797</td>\n",
       "      <td>2.800000</td>\n",
       "      <td>2.616080</td>\n",
       "    </tr>\n",
       "    <tr>\n",
       "      <th>831169</th>\n",
       "      <td>2.646592</td>\n",
       "      <td>1.375000</td>\n",
       "      <td>1.148649</td>\n",
       "    </tr>\n",
       "    <tr>\n",
       "      <th>1413923</th>\n",
       "      <td>1.788518</td>\n",
       "      <td>1.200000</td>\n",
       "      <td>1.920732</td>\n",
       "    </tr>\n",
       "    <tr>\n",
       "      <th>699740</th>\n",
       "      <td>2.016953</td>\n",
       "      <td>1.000000</td>\n",
       "      <td>1.311111</td>\n",
       "    </tr>\n",
       "    <tr>\n",
       "      <th>1055155</th>\n",
       "      <td>1.847349</td>\n",
       "      <td>1.200000</td>\n",
       "      <td>1.214689</td>\n",
       "    </tr>\n",
       "    <tr>\n",
       "      <th>1295814</th>\n",
       "      <td>2.646592</td>\n",
       "      <td>3.666667</td>\n",
       "      <td>1.696552</td>\n",
       "    </tr>\n",
       "    <tr>\n",
       "      <th>1152343</th>\n",
       "      <td>1.780820</td>\n",
       "      <td>1.222222</td>\n",
       "      <td>1.232759</td>\n",
       "    </tr>\n",
       "  </tbody>\n",
       "</table>\n",
       "</div>"
      ],
      "text/plain": [
       "         shop_mean  shop_item_mean  item_mean\n",
       "795000    1.632631        4.750000   3.647303\n",
       "370914    2.757016        1.000000   1.125000\n",
       "912936    2.349816        1.000000   1.250000\n",
       "920756    2.054797        2.800000   2.616080\n",
       "831169    2.646592        1.375000   1.148649\n",
       "1413923   1.788518        1.200000   1.920732\n",
       "699740    2.016953        1.000000   1.311111\n",
       "1055155   1.847349        1.200000   1.214689\n",
       "1295814   2.646592        3.666667   1.696552\n",
       "1152343   1.780820        1.222222   1.232759"
      ]
     },
     "execution_count": 28,
     "metadata": {},
     "output_type": "execute_result"
    }
   ],
   "source": [
    "X_train.rename(columns={\"shop_mean_x\": \"shop_mean\", \"shop_item_mean_x\": \"shop_item_mean\", \\\n",
    "                        \"year_mean_x\": \"year_mean\", \"month_mean_x\": \"month_mean\", \"item_mean_x\": \"item_mean\"}, inplace=True)\n",
    "\n",
    "X_val.rename(columns={\"shop_mean_x\": \"shop_mean\", \"shop_item_mean_x\": \"shop_item_mean\", \\\n",
    "                        \"year_mean_x\": \"year_mean\", \"month_mean_x\": \"month_mean\", \"item_mean_x\": \"item_mean\"}, inplace=True)\n",
    "\n",
    "test_upd.rename(columns={\"shop_mean_y\": \"shop_mean\", \"item_mean_y\": \"item_mean\", \"shop_item_mean_y\": \"shop_item_mean\", }, inplace=True)\n",
    "\n",
    "knn_features = ['shop_mean', 'shop_item_mean', 'item_mean']\n",
    "\n",
    "# delete this\n",
    "X_train_sampled = X_train[:100000]\n",
    "Y_train_sampled = Y_train[:100000]\n",
    "\n",
    "knn_train = X_train_sampled[knn_features]\n",
    "knn_val = X_val[knn_features]\n",
    "knn_test = test_upd[knn_features]\n",
    "\n",
    "knn_test.fillna(knn_test.mean(), inplace=True)\n",
    "#knn_test.isna().sum()\n",
    "knn_val.sample(10)"
   ]
  },
  {
   "cell_type": "code",
   "execution_count": 29,
   "id": "082e1e3f",
   "metadata": {},
   "outputs": [],
   "source": [
    "knn_scaler = MinMaxScaler()\n",
    "knn_scaler.fit(knn_train)\n",
    "knn_train = knn_scaler.transform(knn_train)\n",
    "knn_val = knn_scaler.transform(knn_val)\n",
    "knn_test = knn_scaler.transform(knn_test)"
   ]
  },
  {
   "cell_type": "code",
   "execution_count": 30,
   "id": "550db694",
   "metadata": {},
   "outputs": [
    {
     "data": {
      "text/plain": [
       "KNeighborsRegressor(leaf_size=13, n_jobs=-1, n_neighbors=9)"
      ]
     },
     "execution_count": 30,
     "metadata": {},
     "output_type": "execute_result"
    }
   ],
   "source": [
    "knn_model = KNeighborsRegressor(n_neighbors=9, leaf_size=13, n_jobs=-1)\n",
    "knn_model.fit(knn_train, Y_train_sampled)"
   ]
  },
  {
   "cell_type": "code",
   "execution_count": 31,
   "id": "54421793",
   "metadata": {},
   "outputs": [],
   "source": [
    "knn_train_pred = knn_model.predict(knn_train)\n",
    "knn_val_pred = knn_model.predict(knn_val)\n",
    "knn_test_pred = knn_model.predict(knn_test)"
   ]
  },
  {
   "cell_type": "code",
   "execution_count": 32,
   "id": "aaeea043",
   "metadata": {},
   "outputs": [
    {
     "data": {
      "text/plain": [
       "3.3021076322274556"
      ]
     },
     "execution_count": 32,
     "metadata": {},
     "output_type": "execute_result"
    }
   ],
   "source": [
    "np.sqrt(mean_squared_error(Y_train_sampled, knn_train_pred))"
   ]
  },
  {
   "cell_type": "code",
   "execution_count": 33,
   "id": "847383ec",
   "metadata": {},
   "outputs": [
    {
     "data": {
      "text/plain": [
       "7.294143129290177"
      ]
     },
     "execution_count": 33,
     "metadata": {},
     "output_type": "execute_result"
    }
   ],
   "source": [
    "np.sqrt(mean_squared_error(Y_val, knn_val_pred))"
   ]
  },
  {
   "cell_type": "code",
   "execution_count": 34,
   "id": "2bd52713",
   "metadata": {},
   "outputs": [
    {
     "data": {
      "text/html": [
       "<div>\n",
       "<style scoped>\n",
       "    .dataframe tbody tr th:only-of-type {\n",
       "        vertical-align: middle;\n",
       "    }\n",
       "\n",
       "    .dataframe tbody tr th {\n",
       "        vertical-align: top;\n",
       "    }\n",
       "\n",
       "    .dataframe thead th {\n",
       "        text-align: right;\n",
       "    }\n",
       "</style>\n",
       "<table border=\"1\" class=\"dataframe\">\n",
       "  <thead>\n",
       "    <tr style=\"text-align: right;\">\n",
       "      <th></th>\n",
       "      <th>item_cnt_month</th>\n",
       "    </tr>\n",
       "  </thead>\n",
       "  <tbody>\n",
       "    <tr>\n",
       "      <th>count</th>\n",
       "      <td>214200.000000</td>\n",
       "    </tr>\n",
       "    <tr>\n",
       "      <th>mean</th>\n",
       "      <td>2.010286</td>\n",
       "    </tr>\n",
       "    <tr>\n",
       "      <th>std</th>\n",
       "      <td>2.332731</td>\n",
       "    </tr>\n",
       "    <tr>\n",
       "      <th>min</th>\n",
       "      <td>1.000000</td>\n",
       "    </tr>\n",
       "    <tr>\n",
       "      <th>25%</th>\n",
       "      <td>1.111111</td>\n",
       "    </tr>\n",
       "    <tr>\n",
       "      <th>50%</th>\n",
       "      <td>1.666667</td>\n",
       "    </tr>\n",
       "    <tr>\n",
       "      <th>75%</th>\n",
       "      <td>2.000000</td>\n",
       "    </tr>\n",
       "    <tr>\n",
       "      <th>max</th>\n",
       "      <td>114.555556</td>\n",
       "    </tr>\n",
       "  </tbody>\n",
       "</table>\n",
       "</div>"
      ],
      "text/plain": [
       "       item_cnt_month\n",
       "count   214200.000000\n",
       "mean         2.010286\n",
       "std          2.332731\n",
       "min          1.000000\n",
       "25%          1.111111\n",
       "50%          1.666667\n",
       "75%          2.000000\n",
       "max        114.555556"
      ]
     },
     "execution_count": 34,
     "metadata": {},
     "output_type": "execute_result"
    }
   ],
   "source": [
    "final_results = pd.DataFrame(knn_test_pred)\n",
    "final_results.rename(columns={0:'item_cnt_month'}, inplace=True)\n",
    "final_results.describe()"
   ]
  },
  {
   "cell_type": "code",
   "execution_count": 457,
   "id": "020f0a2b",
   "metadata": {},
   "outputs": [
    {
     "data": {
      "text/html": [
       "<div>\n",
       "<style scoped>\n",
       "    .dataframe tbody tr th:only-of-type {\n",
       "        vertical-align: middle;\n",
       "    }\n",
       "\n",
       "    .dataframe tbody tr th {\n",
       "        vertical-align: top;\n",
       "    }\n",
       "\n",
       "    .dataframe thead th {\n",
       "        text-align: right;\n",
       "    }\n",
       "</style>\n",
       "<table border=\"1\" class=\"dataframe\">\n",
       "  <thead>\n",
       "    <tr style=\"text-align: right;\">\n",
       "      <th></th>\n",
       "      <th>ID</th>\n",
       "      <th>item_cnt_month</th>\n",
       "    </tr>\n",
       "  </thead>\n",
       "  <tbody>\n",
       "    <tr>\n",
       "      <th>0</th>\n",
       "      <td>0</td>\n",
       "      <td>1.111111</td>\n",
       "    </tr>\n",
       "    <tr>\n",
       "      <th>1</th>\n",
       "      <td>1</td>\n",
       "      <td>1.555556</td>\n",
       "    </tr>\n",
       "    <tr>\n",
       "      <th>2</th>\n",
       "      <td>2</td>\n",
       "      <td>1.888889</td>\n",
       "    </tr>\n",
       "    <tr>\n",
       "      <th>3</th>\n",
       "      <td>3</td>\n",
       "      <td>1.000000</td>\n",
       "    </tr>\n",
       "    <tr>\n",
       "      <th>4</th>\n",
       "      <td>4</td>\n",
       "      <td>1.555556</td>\n",
       "    </tr>\n",
       "    <tr>\n",
       "      <th>...</th>\n",
       "      <td>...</td>\n",
       "      <td>...</td>\n",
       "    </tr>\n",
       "    <tr>\n",
       "      <th>214195</th>\n",
       "      <td>214195</td>\n",
       "      <td>2.111111</td>\n",
       "    </tr>\n",
       "    <tr>\n",
       "      <th>214196</th>\n",
       "      <td>214196</td>\n",
       "      <td>1.555556</td>\n",
       "    </tr>\n",
       "    <tr>\n",
       "      <th>214197</th>\n",
       "      <td>214197</td>\n",
       "      <td>1.111111</td>\n",
       "    </tr>\n",
       "    <tr>\n",
       "      <th>214198</th>\n",
       "      <td>214198</td>\n",
       "      <td>1.777778</td>\n",
       "    </tr>\n",
       "    <tr>\n",
       "      <th>214199</th>\n",
       "      <td>214199</td>\n",
       "      <td>1.666667</td>\n",
       "    </tr>\n",
       "  </tbody>\n",
       "</table>\n",
       "<p>214200 rows × 2 columns</p>\n",
       "</div>"
      ],
      "text/plain": [
       "            ID  item_cnt_month\n",
       "0            0        1.111111\n",
       "1            1        1.555556\n",
       "2            2        1.888889\n",
       "3            3        1.000000\n",
       "4            4        1.555556\n",
       "...        ...             ...\n",
       "214195  214195        2.111111\n",
       "214196  214196        1.555556\n",
       "214197  214197        1.111111\n",
       "214198  214198        1.777778\n",
       "214199  214199        1.666667\n",
       "\n",
       "[214200 rows x 2 columns]"
      ]
     },
     "execution_count": 457,
     "metadata": {},
     "output_type": "execute_result"
    }
   ],
   "source": [
    "test['item_cnt_month'] = knn_test_pred\n",
    "test = test.drop(['item_id', 'shop_id'], axis=1)\n",
    "test.reset_index(drop=True)"
   ]
  },
  {
   "cell_type": "code",
   "execution_count": 458,
   "id": "1f6e3401",
   "metadata": {},
   "outputs": [],
   "source": [
    "test.to_csv('result.csv')"
   ]
  }
 ],
 "metadata": {
  "kernelspec": {
   "display_name": "Python 3 (ipykernel)",
   "language": "python",
   "name": "python3"
  },
  "language_info": {
   "codemirror_mode": {
    "name": "ipython",
    "version": 3
   },
   "file_extension": ".py",
   "mimetype": "text/x-python",
   "name": "python",
   "nbconvert_exporter": "python",
   "pygments_lexer": "ipython3",
   "version": "3.9.7"
  }
 },
 "nbformat": 4,
 "nbformat_minor": 5
}
